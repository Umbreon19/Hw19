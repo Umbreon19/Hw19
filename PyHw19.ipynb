{
 "cells": [
  {
   "cell_type": "code",
   "execution_count": 83,
   "metadata": {
    "scrolled": true
   },
   "outputs": [
    {
     "name": "stdout",
     "output_type": "stream",
     "text": [
      "[1, 1, 2, 2, 3, 3, 3, 3, 3, 3, 3, 3, 4, 4, 4, 4, 4, 4, 4, 4]\n"
     ]
    }
   ],
   "source": [
    "f = open(\"git/HwWeek19/yelp_review.txt\", \"r\")\n",
    "scores=f.read()\n",
    "scores_list=scores.split()\n",
    "for i in range(0, len(scores_list)): \n",
    "    scores_list[i] = int(scores_list[i]) \n",
    "scores_list.sort()\n",
    "stuff = []\n",
    "for element in scores_list:\n",
    "    if element >= 1 and element <= 4:\n",
    "        stuff.append(element)\n",
    "print(stuff)\n",
    "f.close()"
   ]
  }
 ],
 "metadata": {
  "kernelspec": {
   "display_name": "Python 3",
   "language": "python",
   "name": "python3"
  },
  "language_info": {
   "codemirror_mode": {
    "name": "ipython",
    "version": 3
   },
   "file_extension": ".py",
   "mimetype": "text/x-python",
   "name": "python",
   "nbconvert_exporter": "python",
   "pygments_lexer": "ipython3",
   "version": "3.8.3"
  }
 },
 "nbformat": 4,
 "nbformat_minor": 4
}
